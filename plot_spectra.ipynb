{
 "cells": [
  {
   "cell_type": "markdown",
   "id": "26ad060e",
   "metadata": {
    "ExecuteTime": {
     "end_time": "2022-09-13T00:35:24.926376Z",
     "start_time": "2022-09-13T00:35:24.923877Z"
    }
   },
   "source": [
    "# Analyse ROMY Data Noise"
   ]
  },
  {
   "cell_type": "code",
   "execution_count": 1,
   "id": "7ae027cf",
   "metadata": {
    "ExecuteTime": {
     "end_time": "2023-04-05T16:30:44.374156Z",
     "start_time": "2023-04-05T16:30:42.823021Z"
    },
    "tags": []
   },
   "outputs": [],
   "source": [
    "import os\n",
    "\n",
    "from spectra import spectra\n",
    "from obspy import UTCDateTime"
   ]
  },
  {
   "cell_type": "markdown",
   "id": "a9cfd05f",
   "metadata": {},
   "source": [
    "## Configurations"
   ]
  },
  {
   "cell_type": "code",
   "execution_count": 3,
   "id": "ac232c73",
   "metadata": {},
   "outputs": [],
   "source": [
    "config = {\n",
    "    # Required time window parameters\n",
    "    # 'tbeg': \"2024-01-01\",  # Start time\n",
    "    # 'tend': \"2024-04-30\",  # End time\n",
    "\n",
    "\n",
    "    # SEED identifiers\n",
    "    # 'seed': \"BW.ROMY.40.BJZ\",  # station seed\n",
    "    # 'seed': \"GR.FUR..BHZ\",  # station seed\n",
    "\n",
    "    # Path configurations\n",
    "    # 'path_to_spectra': \"/home/andbro/freenas/romy_spectra/\",  # data directory\n",
    "    'path_to_spectra': \"/home/andbro/freenas/romy_spectra/\",  # data directory\n",
    "}"
   ]
  },
  {
   "cell_type": "code",
   "execution_count": 4,
   "id": "9777c2e3",
   "metadata": {},
   "outputs": [
    {
     "name": "stdout",
     "output_type": "stream",
     "text": [
      "Error reading 20230901_BW_ROMY_00_BJZ_spectra.pkl: [Errno 2] No such file or directory: '/home/andbro/freenas/romy_spectra/2023/BW/ROMY/BJZ/20230901_BW_ROMY_00_BJZ_spectra.pkl'\n",
      "Error reading 20230902_BW_ROMY_00_BJZ_spectra.pkl: [Errno 2] No such file or directory: '/home/andbro/freenas/romy_spectra/2023/BW/ROMY/BJZ/20230902_BW_ROMY_00_BJZ_spectra.pkl'\n",
      "Error reading 20230903_BW_ROMY_00_BJZ_spectra.pkl: [Errno 2] No such file or directory: '/home/andbro/freenas/romy_spectra/2023/BW/ROMY/BJZ/20230903_BW_ROMY_00_BJZ_spectra.pkl'\n",
      "Error reading 20230904_BW_ROMY_00_BJZ_spectra.pkl: [Errno 2] No such file or directory: '/home/andbro/freenas/romy_spectra/2023/BW/ROMY/BJZ/20230904_BW_ROMY_00_BJZ_spectra.pkl'\n",
      "Error reading 20230905_BW_ROMY_00_BJZ_spectra.pkl: [Errno 2] No such file or directory: '/home/andbro/freenas/romy_spectra/2023/BW/ROMY/BJZ/20230905_BW_ROMY_00_BJZ_spectra.pkl'\n",
      "Error reading 20230906_BW_ROMY_00_BJZ_spectra.pkl: [Errno 2] No such file or directory: '/home/andbro/freenas/romy_spectra/2023/BW/ROMY/BJZ/20230906_BW_ROMY_00_BJZ_spectra.pkl'\n",
      "Error reading 20230907_BW_ROMY_00_BJZ_spectra.pkl: [Errno 2] No such file or directory: '/home/andbro/freenas/romy_spectra/2023/BW/ROMY/BJZ/20230907_BW_ROMY_00_BJZ_spectra.pkl'\n",
      "Error reading 20230908_BW_ROMY_00_BJZ_spectra.pkl: [Errno 2] No such file or directory: '/home/andbro/freenas/romy_spectra/2023/BW/ROMY/BJZ/20230908_BW_ROMY_00_BJZ_spectra.pkl'\n",
      "Error reading 20230909_BW_ROMY_00_BJZ_spectra.pkl: [Errno 2] No such file or directory: '/home/andbro/freenas/romy_spectra/2023/BW/ROMY/BJZ/20230909_BW_ROMY_00_BJZ_spectra.pkl'\n",
      "Error reading 20230910_BW_ROMY_00_BJZ_spectra.pkl: [Errno 2] No such file or directory: '/home/andbro/freenas/romy_spectra/2023/BW/ROMY/BJZ/20230910_BW_ROMY_00_BJZ_spectra.pkl'\n",
      "Error reading 20230911_BW_ROMY_00_BJZ_spectra.pkl: [Errno 2] No such file or directory: '/home/andbro/freenas/romy_spectra/2023/BW/ROMY/BJZ/20230911_BW_ROMY_00_BJZ_spectra.pkl'\n",
      "Error reading 20230912_BW_ROMY_00_BJZ_spectra.pkl: [Errno 2] No such file or directory: '/home/andbro/freenas/romy_spectra/2023/BW/ROMY/BJZ/20230912_BW_ROMY_00_BJZ_spectra.pkl'\n",
      "Error reading 20230913_BW_ROMY_00_BJZ_spectra.pkl: [Errno 2] No such file or directory: '/home/andbro/freenas/romy_spectra/2023/BW/ROMY/BJZ/20230913_BW_ROMY_00_BJZ_spectra.pkl'\n",
      "Error reading 20230914_BW_ROMY_00_BJZ_spectra.pkl: [Errno 2] No such file or directory: '/home/andbro/freenas/romy_spectra/2023/BW/ROMY/BJZ/20230914_BW_ROMY_00_BJZ_spectra.pkl'\n",
      "Error reading 20230915_BW_ROMY_00_BJZ_spectra.pkl: [Errno 2] No such file or directory: '/home/andbro/freenas/romy_spectra/2023/BW/ROMY/BJZ/20230915_BW_ROMY_00_BJZ_spectra.pkl'\n",
      "Error reading 20230916_BW_ROMY_00_BJZ_spectra.pkl: [Errno 2] No such file or directory: '/home/andbro/freenas/romy_spectra/2023/BW/ROMY/BJZ/20230916_BW_ROMY_00_BJZ_spectra.pkl'\n",
      "Error reading 20230917_BW_ROMY_00_BJZ_spectra.pkl: [Errno 2] No such file or directory: '/home/andbro/freenas/romy_spectra/2023/BW/ROMY/BJZ/20230917_BW_ROMY_00_BJZ_spectra.pkl'\n",
      "Error reading 20230918_BW_ROMY_00_BJZ_spectra.pkl: [Errno 2] No such file or directory: '/home/andbro/freenas/romy_spectra/2023/BW/ROMY/BJZ/20230918_BW_ROMY_00_BJZ_spectra.pkl'\n",
      "Error reading 20230919_BW_ROMY_00_BJZ_spectra.pkl: [Errno 2] No such file or directory: '/home/andbro/freenas/romy_spectra/2023/BW/ROMY/BJZ/20230919_BW_ROMY_00_BJZ_spectra.pkl'\n",
      "Error reading 20230920_BW_ROMY_00_BJZ_spectra.pkl: [Errno 2] No such file or directory: '/home/andbro/freenas/romy_spectra/2023/BW/ROMY/BJZ/20230920_BW_ROMY_00_BJZ_spectra.pkl'\n",
      "Error reading 20230921_BW_ROMY_00_BJZ_spectra.pkl: [Errno 2] No such file or directory: '/home/andbro/freenas/romy_spectra/2023/BW/ROMY/BJZ/20230921_BW_ROMY_00_BJZ_spectra.pkl'\n",
      "Error reading 20230922_BW_ROMY_00_BJZ_spectra.pkl: [Errno 2] No such file or directory: '/home/andbro/freenas/romy_spectra/2023/BW/ROMY/BJZ/20230922_BW_ROMY_00_BJZ_spectra.pkl'\n",
      "Error reading 20230923_BW_ROMY_00_BJZ_spectra.pkl: [Errno 2] No such file or directory: '/home/andbro/freenas/romy_spectra/2023/BW/ROMY/BJZ/20230923_BW_ROMY_00_BJZ_spectra.pkl'\n",
      "Error reading 20230924_BW_ROMY_00_BJZ_spectra.pkl: [Errno 2] No such file or directory: '/home/andbro/freenas/romy_spectra/2023/BW/ROMY/BJZ/20230924_BW_ROMY_00_BJZ_spectra.pkl'\n",
      "Error reading 20230925_BW_ROMY_00_BJZ_spectra.pkl: [Errno 2] No such file or directory: '/home/andbro/freenas/romy_spectra/2023/BW/ROMY/BJZ/20230925_BW_ROMY_00_BJZ_spectra.pkl'\n",
      "Error reading 20230926_BW_ROMY_00_BJZ_spectra.pkl: [Errno 2] No such file or directory: '/home/andbro/freenas/romy_spectra/2023/BW/ROMY/BJZ/20230926_BW_ROMY_00_BJZ_spectra.pkl'\n",
      "Error reading 20230927_BW_ROMY_00_BJZ_spectra.pkl: [Errno 2] No such file or directory: '/home/andbro/freenas/romy_spectra/2023/BW/ROMY/BJZ/20230927_BW_ROMY_00_BJZ_spectra.pkl'\n",
      "Error reading 20230928_BW_ROMY_00_BJZ_spectra.pkl: [Errno 2] No such file or directory: '/home/andbro/freenas/romy_spectra/2023/BW/ROMY/BJZ/20230928_BW_ROMY_00_BJZ_spectra.pkl'\n",
      "Error reading 20230929_BW_ROMY_00_BJZ_spectra.pkl: [Errno 2] No such file or directory: '/home/andbro/freenas/romy_spectra/2023/BW/ROMY/BJZ/20230929_BW_ROMY_00_BJZ_spectra.pkl'\n",
      "Error reading 20230930_BW_ROMY_00_BJZ_spectra.pkl: [Errno 2] No such file or directory: '/home/andbro/freenas/romy_spectra/2023/BW/ROMY/BJZ/20230930_BW_ROMY_00_BJZ_spectra.pkl'\n",
      "Warning: No valid template found. Gaps will not be filled.\n",
      "No data for: 2023-09-01 ( 20230901_BW_ROMY_00_BJZ_spectra.pkl )\n",
      "No data for: 2023-09-02 ( 20230902_BW_ROMY_00_BJZ_spectra.pkl )\n",
      "No data for: 2023-09-03 ( 20230903_BW_ROMY_00_BJZ_spectra.pkl )\n",
      "No data for: 2023-09-04 ( 20230904_BW_ROMY_00_BJZ_spectra.pkl )\n",
      "No data for: 2023-09-05 ( 20230905_BW_ROMY_00_BJZ_spectra.pkl )\n",
      "No data for: 2023-09-06 ( 20230906_BW_ROMY_00_BJZ_spectra.pkl )\n",
      "No data for: 2023-09-07 ( 20230907_BW_ROMY_00_BJZ_spectra.pkl )\n",
      "No data for: 2023-09-08 ( 20230908_BW_ROMY_00_BJZ_spectra.pkl )\n",
      "No data for: 2023-09-09 ( 20230909_BW_ROMY_00_BJZ_spectra.pkl )\n",
      "No data for: 2023-09-10 ( 20230910_BW_ROMY_00_BJZ_spectra.pkl )\n",
      "No data for: 2023-09-11 ( 20230911_BW_ROMY_00_BJZ_spectra.pkl )\n",
      "No data for: 2023-09-12 ( 20230912_BW_ROMY_00_BJZ_spectra.pkl )\n",
      "No data for: 2023-09-13 ( 20230913_BW_ROMY_00_BJZ_spectra.pkl )\n",
      "No data for: 2023-09-14 ( 20230914_BW_ROMY_00_BJZ_spectra.pkl )\n",
      "No data for: 2023-09-15 ( 20230915_BW_ROMY_00_BJZ_spectra.pkl )\n",
      "No data for: 2023-09-16 ( 20230916_BW_ROMY_00_BJZ_spectra.pkl )\n",
      "No data for: 2023-09-17 ( 20230917_BW_ROMY_00_BJZ_spectra.pkl )\n",
      "No data for: 2023-09-18 ( 20230918_BW_ROMY_00_BJZ_spectra.pkl )\n",
      "No data for: 2023-09-19 ( 20230919_BW_ROMY_00_BJZ_spectra.pkl )\n",
      "No data for: 2023-09-20 ( 20230920_BW_ROMY_00_BJZ_spectra.pkl )\n",
      "No data for: 2023-09-21 ( 20230921_BW_ROMY_00_BJZ_spectra.pkl )\n",
      "No data for: 2023-09-22 ( 20230922_BW_ROMY_00_BJZ_spectra.pkl )\n",
      "No data for: 2023-09-23 ( 20230923_BW_ROMY_00_BJZ_spectra.pkl )\n",
      "No data for: 2023-09-24 ( 20230924_BW_ROMY_00_BJZ_spectra.pkl )\n",
      "No data for: 2023-09-25 ( 20230925_BW_ROMY_00_BJZ_spectra.pkl )\n",
      "No data for: 2023-09-26 ( 20230926_BW_ROMY_00_BJZ_spectra.pkl )\n",
      "No data for: 2023-09-27 ( 20230927_BW_ROMY_00_BJZ_spectra.pkl )\n",
      "No data for: 2023-09-28 ( 20230928_BW_ROMY_00_BJZ_spectra.pkl )\n",
      "No data for: 2023-09-29 ( 20230929_BW_ROMY_00_BJZ_spectra.pkl )\n",
      "No data for: 2023-09-30 ( 20230930_BW_ROMY_00_BJZ_spectra.pkl )\n",
      "No data found for BW.ROMY.00.BJZ\n"
     ]
    }
   ],
   "source": [
    "spec = spectra()\n",
    "\n",
    "collections = spectra.load_collections(\n",
    "    path=config['path_to_spectra'],\n",
    "    start_date=config['tbeg'],\n",
    "    end_date=config['tend'],\n",
    "    seed=config['seed'],\n",
    "    join=True,\n",
    "    fill_gaps=True,\n",
    ")\n",
    "\n",
    "# Check if collections were loaded successfully\n",
    "if not collections or config['seed'] not in collections:\n",
    "    print(f\"No data found for {config['seed']}\")\n",
    "else:\n",
    "    print(f\"Successfully loaded data for {config['seed']}\")\n",
    "    \n",
    "    # Set up the spectra object with the loaded collection\n",
    "    spec.collection = collections[config['seed']]['collection']\n",
    "    spec.tr_id = config['seed']\n",
    "    spec.method = collections[config['seed']]['parameters']['method']\n",
    "    spec.fmin = collections[config['seed']]['parameters']['fmin']\n",
    "    spec.fmax = collections[config['seed']]['parameters']['fmax']\n"
   ]
  },
  {
   "cell_type": "code",
   "execution_count": 5,
   "id": "82f74069",
   "metadata": {},
   "outputs": [
    {
     "name": "stdout",
     "output_type": "stream",
     "text": [
      "No collection available\n"
     ]
    }
   ],
   "source": [
    "import matplotlib.pyplot as plt\n",
    "\n",
    "cmap = plt.get_cmap('viridis')\n",
    "cmap.set_bad(color='white', alpha=1.0)\n",
    "\n",
    "# Plot the spectrogram with specified frequency limits\n",
    "fig = spec.plot_spectrogram(fmin=0.001, fmax=8.0,\n",
    "                            vmin=1e-22, vmax=1e-17,\n",
    "                            quality_filter='good',\n",
    "                            out=True,\n",
    "                            cmap=cmap\n",
    "                            )\n",
    "\n",
    "# fig.savefig(f\"{str(config['tbeg'])[:4]}_{config['seed'].split('.')[0]}_{config['seed'].split('.')[1]}_{config['seed'].split('.')[3]}_spectra.png\")"
   ]
  },
  {
   "cell_type": "code",
   "execution_count": null,
   "id": "581b9591",
   "metadata": {},
   "outputs": [],
   "source": []
  },
  {
   "cell_type": "code",
   "execution_count": null,
   "id": "f01269cc",
   "metadata": {},
   "outputs": [],
   "source": []
  }
 ],
 "metadata": {
  "kernelspec": {
   "display_name": "obs2",
   "language": "python",
   "name": "python3"
  },
  "language_info": {
   "codemirror_mode": {
    "name": "ipython",
    "version": 3
   },
   "file_extension": ".py",
   "mimetype": "text/x-python",
   "name": "python",
   "nbconvert_exporter": "python",
   "pygments_lexer": "ipython3",
   "version": "3.10.12"
  },
  "latex_envs": {
   "LaTeX_envs_menu_present": true,
   "autoclose": false,
   "autocomplete": true,
   "bibliofile": "biblio.bib",
   "cite_by": "apalike",
   "current_citInitial": 1,
   "eqLabelWithNumbers": true,
   "eqNumInitial": 1,
   "hotkeys": {
    "equation": "Ctrl-E",
    "itemize": "Ctrl-I"
   },
   "labels_anchors": false,
   "latex_user_defs": false,
   "report_style_numbering": false,
   "user_envs_cfg": false
  },
  "toc": {
   "base_numbering": 1,
   "nav_menu": {},
   "number_sections": true,
   "sideBar": true,
   "skip_h1_title": false,
   "title_cell": "Table of Contents",
   "title_sidebar": "Contents",
   "toc_cell": false,
   "toc_position": {},
   "toc_section_display": true,
   "toc_window_display": false
  },
  "varInspector": {
   "cols": {
    "lenName": 16,
    "lenType": 16,
    "lenVar": 40
   },
   "kernels_config": {
    "python": {
     "delete_cmd_postfix": "",
     "delete_cmd_prefix": "del ",
     "library": "var_list.py",
     "varRefreshCmd": "print(var_dic_list())"
    },
    "r": {
     "delete_cmd_postfix": ") ",
     "delete_cmd_prefix": "rm(",
     "library": "var_list.r",
     "varRefreshCmd": "cat(var_dic_list()) "
    }
   },
   "types_to_exclude": [
    "module",
    "function",
    "builtin_function_or_method",
    "instance",
    "_Feature"
   ],
   "window_display": false
  }
 },
 "nbformat": 4,
 "nbformat_minor": 5
}
